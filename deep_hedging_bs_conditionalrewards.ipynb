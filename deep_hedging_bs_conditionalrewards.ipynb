{
  "nbformat": 4,
  "nbformat_minor": 0,
  "metadata": {
    "kernelspec": {
      "display_name": "Python 3",
      "language": "python",
      "name": "python3"
    },
    "language_info": {
      "codemirror_mode": {
        "name": "ipython",
        "version": 3
      },
      "file_extension": ".py",
      "mimetype": "text/x-python",
      "name": "python",
      "nbconvert_exporter": "python",
      "pygments_lexer": "ipython3",
      "version": "3.8.7"
    },
    "colab": {
      "name": "deep_hedging_bs_conditionalrewards.ipynb",
      "provenance": [],
      "collapsed_sections": [],
      "include_colab_link": true
    }
  },
  "cells": [
    {
      "cell_type": "markdown",
      "metadata": {
        "id": "view-in-github",
        "colab_type": "text"
      },
      "source": [
        "<a href=\"https://colab.research.google.com/github/vivianzh21/test1/blob/master/deep_hedging_bs_conditionalrewards.ipynb\" target=\"_parent\"><img src=\"https://colab.research.google.com/assets/colab-badge.svg\" alt=\"Open In Colab\"/></a>"
      ]
    },
    {
      "cell_type": "markdown",
      "metadata": {
        "id": "e2AxQWQN59kC"
      },
      "source": [
        "# Deep Hedging"
      ]
    },
    {
      "cell_type": "markdown",
      "metadata": {
        "id": "B2w3cfW159kK"
      },
      "source": [
        "Deep Hedging goes back to the following [paper](https://arxiv.org/abs/1802.03042)  by Hans Bühler, Lukas Gonon, Josef Teichmann and Ben Wood. \n",
        "\n",
        "The main idea is to parametrize the hedging strategies (at each time) via neural networks which can depend on input variables chosen by the user, for instance the current price, the past strategy, etc.\n",
        "This then allows to solve a potentially high dimensional hedging problem for many assets whose dynamics are described by an arbitrary given arbitrage free model even in the presence of transaction costs.\n",
        "\n",
        "Let us exemplify first the idea by the Black Scholes model in one dimension."
      ]
    },
    {
      "cell_type": "markdown",
      "metadata": {
        "id": "xdUMvkQp59kM"
      },
      "source": [
        "# Deep Hedging exemplified by means of the Black Scholes model"
      ]
    },
    {
      "cell_type": "markdown",
      "metadata": {
        "id": "XmfNvCFo59kN"
      },
      "source": [
        "Let $T$ be a finite time horizon and consider on a filtered probability space $(\\Omega, (\\mathcal{F}_{0\\leq t\\leq T}), \\mathcal{F}_T, P)$ a standard Black Scholes model with interest rate $r=0$ and the price of the risky asset $S$ being described by\n",
        "\n",
        "$$\n",
        "dS_t=S_t\\mu dt + S_t\\sigma dW^{\\mathbb{P}}_t, \\quad S_0=S_0\n",
        "$$\n",
        "\n",
        "under the physical measure $\\mathbb{P}$. Here $\\mu \\geq 0$, $\\sigma \\neq 0$, $S_0 >0$ and $W^{\\mathbb{P}}$ is a Brownian motion (under $\\mathbb{P}$).\n",
        "\n",
        "Under the unique risk neutral probability measure, denoted by $\\mathbb{Q}$, the dynamics are then given by\n",
        "\n",
        "$$\n",
        "dS_t= S_t\\sigma dW_t, \\quad S_0=S_0\n",
        "$$\n",
        "\n",
        "where $W$ is a $\\mathbb{Q}$ Brownian motion \n",
        "\n",
        "We consider here the problem of hedging a $\\mathcal{F}_T$-measurable claim $f(S_T)$. In the case of the Black Scholes model the hedging strategy can be found by the Delta hedge, i.e. \n",
        "\n",
        "$$\n",
        "\\Delta(t,s)=\\partial_s \\mathbb{E}_{Q}[f(S_T)| S_t=s].\n",
        "$$\n",
        "\n",
        "In more involved models this is no longer possible. In particular in incomplete models not every claim can be hedged and we thus need to optimize a hedging criterion. We here consider a __quadratic hedging criterion__ but other risk measures are of course also possible.\n",
        "\n",
        "Let $\\pi$ denote the price of the option, i.e. $\\mathbb{E}_Q[f(S_T)]$. Then the goal is solve the following optimization problem \n",
        "\n",
        "$$\n",
        "\\inf_{H \\text{ predictable }}\\mathbb{E}[( f(S_T)- \\pi- (H\\bullet S)_T)^2],\n",
        "$$\n",
        "\n",
        "where $(H_t)$ ranges over all predictable process and $(H \\bullet S)_T= \\int_0^T H_t dS_t$ denotes the stochastic Ito integral. Optimizing over all predictable processes is infeasable. \n",
        "\n",
        "Therefore we choose to specify $H_t$ in a smaller set: for each $t$ as a neural network whose input can be specified.  In complete Markovian models, as it is the case of the Black Scholes model, we know from the delta hedging strategy that it makes sense to parameterize $H_t$ as a function of the current price $S_t$.  In the current setting we therefore choose that the input of each neural network in the implementation below depends only on the current price, i.e. \n",
        "\n",
        "$$\n",
        "H_t=g_t(S_t)\n",
        "$$\n",
        "\n",
        "and $g_t$ denotes a neural network.\n",
        "\n",
        "We can view the above as supervised learning problem: the input data $x_i$ correspond to trajectories of $(S_t(\\omega_i))_{0 \\leq T}$, the output $y_i$ should be $0$ and the\n",
        "the loss function is given by \n",
        "\n",
        "$$\n",
        "\\mathcal{L}=  \\left(f(S_T(\\omega_i))- \\pi- \\int_0^T g_t(S_t (\\omega_i)) dS_t(\\omega_i)\\right)^2.\n",
        "$$\n",
        "\n",
        "To implement this we need to generate input data which will be our training data set. Consider the log price of $S_t$ under $\\mathbb{Q}$, i.e.\n",
        "\n",
        "$$\n",
        "d\\log(S_t)= -\\frac{\\sigma^2}{2} dt + \\sigma dW_t.\n",
        "$$\n",
        "\n",
        "The practical implementation requires a time discretization.\n",
        "If we discretize our time interval $[0,T]$ in $N$ time steps of length $T/N$ we can write \n",
        "\n",
        "$$\n",
        "\\log(S_i)= \\log(S_{i-1}) -\\frac{\\sigma^2}{2} \\frac{T}{N} + \\sigma \\sqrt{\\frac{T}{N}} Z_i, i=1, \\ldots, N\n",
        "$$\n",
        "\n",
        "where $Z_i$ are independent $N(0,1)$ distributed random variables. The discretized price $(S_0, S_1, \\ldots S_N)$ is obtained by exponentiation.\n",
        "\n",
        "In this disretized form the whole trajetory of the price $(S_0, S_1, \\ldots S_N)$ is therefore determined by $(S_0, Z_1, \\ldots, Z_N)$ or in other words $(S_0, X_1, \\ldots, X_N)$  where $X_i$ are independent  $N(-\\frac{\\sigma^2}{2} \\frac{T}{N} ,\\sigma^2 \\frac{T}{N})$ distributed random variables. Considering $K$ many samples thereof constitutes the input training data set. The outputs are simply $K$ zeros.\n",
        "\n",
        "In the above loss function we also need to disretize the \n",
        "stochastic integral\n",
        "\n",
        "$$\n",
        "\\int_0^T g_t(S_t (\\omega)) dS_t(\\omega).\n",
        "$$\n",
        "\n",
        "We do this by choosing $N$ neural networks $g_0, \\ldots, g_{N-1}$ and disretizing the integral as follows:\n",
        "\n",
        "$$\n",
        "\\sum_{i=0}^{N-1} g_i(S_i(\\omega)) (S_{i+1}(\\omega)-S_i(\\omega)) \\, .\n",
        "$$\n"
      ]
    },
    {
      "cell_type": "markdown",
      "metadata": {
        "id": "s9v41vm059kN"
      },
      "source": [
        "In contrast to the original deep hedging approach we consider two training data sets here (xtrain and xtrain_red), where the second one is not a random sample Ktrain trajectories, but rather a set of trajectories, where R initial steps coincide for sets of N_red trajectories."
      ]
    },
    {
      "cell_type": "code",
      "metadata": {
        "id": "wIUAEhkA59kO",
        "colab": {
          "base_uri": "https://localhost:8080/"
        },
        "outputId": "79455def-a6b6-4ee1-a627-68a2ff4d573a"
      },
      "source": [
        "%tensorflow_version 1.x\n",
        "import numpy as np\n",
        "import tensorflow as tf\n",
        "\n",
        "from keras.models import Sequential\n",
        "from keras.layers import Input, Dense, Conv2D, Concatenate, Dropout, Subtract, \\\n",
        "                        Flatten, MaxPooling2D, Multiply, Lambda, Add, Dot\n",
        "from keras.backend import constant\n",
        "from keras import optimizers\n",
        "\n",
        "from keras.engine.topology import Layer\n",
        "from keras.models import Model\n",
        "from keras.layers import Input\n",
        "from keras import initializers\n",
        "from keras.constraints import max_norm\n",
        "import keras.backend as K\n",
        "\n",
        "import matplotlib.pyplot as plt\n",
        "\n",
        "import copy"
      ],
      "execution_count": null,
      "outputs": [
        {
          "output_type": "stream",
          "name": "stdout",
          "text": [
            "TensorFlow 1.x selected.\n"
          ]
        },
        {
          "output_type": "stream",
          "name": "stderr",
          "text": [
            "Using TensorFlow backend.\n"
          ]
        }
      ]
    },
    {
      "cell_type": "code",
      "metadata": {
        "id": "EMjoD9lb59kR"
      },
      "source": [
        "N=100 # time disrectization\n",
        "S0=1 # initial value of the asset\n",
        "T=1 # maturity\n",
        "strike = 1.0\n",
        "sigma=0.2 # volatility in Black Scholes"
      ],
      "execution_count": null,
      "outputs": []
    },
    {
      "cell_type": "code",
      "metadata": {
        "colab": {
          "base_uri": "https://localhost:8080/"
        },
        "id": "EHEx7CI559kR",
        "outputId": "5f9ed738-2fa2-465a-f0c6-143dcdeace7e"
      },
      "source": [
        "import scipy.stats as scipy\n",
        "from scipy.stats import norm\n",
        "\n",
        "#Blackscholes price\n",
        "\n",
        "def BS(S0, strike, T, sigma):\n",
        "    return S0*scipy.norm.cdf((np.log(S0/strike)+0.5*T*sigma**2)/(np.sqrt(T)*sigma))-strike*scipy.norm.cdf((np.log(S0/strike)-0.5*T*sigma**2)/(np.sqrt(T)*sigma))\n",
        "\n",
        "priceBS=BS(S0,strike,T,sigma)\n",
        "print('Price of a Call option in the Black scholes model with initial price', S0, 'strike', strike, 'maturity', T , 'and volatility' , sigma, 'is equal to', BS(S0,strike,T,sigma))"
      ],
      "execution_count": null,
      "outputs": [
        {
          "output_type": "stream",
          "name": "stdout",
          "text": [
            "Price of a Call option in the Black scholes model with initial price 1 strike 1.0 maturity 1 and volatility 0.2 is equal to 0.07965567455405798\n"
          ]
        }
      ]
    },
    {
      "cell_type": "code",
      "metadata": {
        "id": "JoZA9Wze59kS"
      },
      "source": [
        "#Definition of neural networks for heding strategies\n",
        "\n",
        "m = 1 # dimension of price\n",
        "d = 3 # number of layers in strategy\n",
        "n = 32  # nodes in the first but last layers\n",
        "\n",
        "# architecture is the same for all networks\n",
        "layers = []\n",
        "for j in range(N):\n",
        "    for i in range(d):\n",
        "        if i < d-1:\n",
        "            nodes = n\n",
        "            layer = Dense(nodes, activation='tanh',trainable=True,\n",
        "                      kernel_initializer=initializers.RandomNormal(0,1),#kernel_initializer='random_normal',\n",
        "                      bias_initializer='random_normal',\n",
        "                      name=str(i)+str(j))\n",
        "        else:\n",
        "            nodes = m\n",
        "            layer = Dense(nodes, activation='linear', trainable=True,\n",
        "                          kernel_initializer=initializers.RandomNormal(0,0.1),#kernel_initializer='random_normal',\n",
        "                          bias_initializer='random_normal',\n",
        "                          name=str(i)+str(j))\n",
        "        layers = layers + [layer]"
      ],
      "execution_count": null,
      "outputs": []
    },
    {
      "cell_type": "code",
      "metadata": {
        "id": "vY8NG7QV59kS",
        "outputId": "ef4d5c95-d22a-4808-bc0a-fa3801efc942",
        "colab": {
          "base_uri": "https://localhost:8080/"
        }
      },
      "source": [
        "#Implementing the loss function\n",
        "# Inputs is the training set below, containing the price S0, \n",
        "#the initial hedging being 0, and the increments of the log price process \n",
        "price = Input(shape=(m,))\n",
        "hedge = Input(shape=(m,))\n",
        "hedgeeval = Input(shape=(m,))\n",
        "premium = Input(shape=(m,))\n",
        "\n",
        "inputs = [price]+[hedge]+[hedgeeval]+[premium]\n",
        "outputhelper=[]\n",
        "\n",
        "premium = Dense(m, activation='linear', trainable=True,\n",
        "                kernel_initializer=initializers.RandomNormal(0,1),#kernel_initializer='random_normal',\n",
        "                bias_initializer=initializers.RandomNormal(0,1))(premium)\n",
        "\n",
        "for j in range(N):\n",
        "    strategy = price\n",
        "    strategyeval=hedgeeval\n",
        "    for k in range(d):\n",
        "        strategy= layers[k+(j)*d](strategy) # strategy at j is the hedging strategy at j , i.e. the neural network g_j\n",
        "        strategyeval=layers[k+(j)*d](strategyeval)\n",
        "    incr = Input(shape=(m,))\n",
        "    logprice= Lambda(lambda x : K.log(x))(price)\n",
        "    logprice = Add()([logprice, incr])\n",
        "    pricenew=Lambda(lambda x : K.exp(x))(logprice)# creating the price at time j+1\n",
        "    priceincr=Subtract()([pricenew, price])\n",
        "    hedgenew = Multiply()([strategy, priceincr])\n",
        "    #mult = Lambda(lambda x : K.sum(x,axis=1))(mult) # this is only used for m > 1\n",
        "    hedge = Add()([hedge,hedgenew]) # building up the discretized stochastic integral\n",
        "    inputs = inputs + [incr]\n",
        "    outputhelper = outputhelper + [strategyeval]\n",
        "    price=pricenew\n",
        "payoff= Lambda(lambda x : 0.5*(K.abs(x-strike)+x-strike))(price) \n",
        "outputs = Subtract()([payoff,hedge]) \n",
        "outputs = Subtract()([outputs,premium]) # payoff minus price minus hedge \n",
        "outputs= [outputs] + outputhelper +[premium]\n",
        "outputs = Concatenate()(outputs)\n",
        "\n",
        "model_hedge_strat = Model(inputs=inputs, outputs=outputs)"
      ],
      "execution_count": null,
      "outputs": [
        {
          "output_type": "stream",
          "name": "stdout",
          "text": [
            "WARNING:tensorflow:From /tensorflow-1.15.2/python3.7/tensorflow_core/python/ops/resource_variable_ops.py:1630: calling BaseResourceVariable.__init__ (from tensorflow.python.ops.resource_variable_ops) with constraint is deprecated and will be removed in a future version.\n",
            "Instructions for updating:\n",
            "If using Keras pass *_constraint arguments to layers.\n"
          ]
        }
      ]
    },
    {
      "cell_type": "code",
      "metadata": {
        "id": "G80l8n1W59kT"
      },
      "source": [
        "R=50 # reduction\n",
        "# architecture is the same for all networks\n",
        "layers_red = []\n",
        "for j in range(R):\n",
        "    for i in range(d):\n",
        "        if i < d-1:\n",
        "            nodes_red = n\n",
        "            layer_red = Dense(nodes_red, activation='tanh',trainable=True,\n",
        "                      kernel_initializer=initializers.RandomNormal(0,1),#kernel_initializer='random_normal',\n",
        "                      bias_initializer='random_normal',\n",
        "                      name=str(i)+str(j))\n",
        "        else:\n",
        "            nodes_red = m\n",
        "            layer_red = Dense(nodes_red, activation='linear', trainable=True,\n",
        "                          kernel_initializer=initializers.RandomNormal(0,0.1),#kernel_initializer='random_normal',\n",
        "                          bias_initializer='random_normal',\n",
        "                          name=str(i)+str(j))\n",
        "        layers_red = layers_red + [layer_red]\n",
        "        \n",
        "for j in range(R,N):\n",
        "    for i in range(d):\n",
        "        if i < d-1:\n",
        "            nodes_red = n\n",
        "            layer_red = Dense(nodes_red, activation='tanh',trainable=False,\n",
        "                      kernel_initializer=initializers.RandomNormal(0,1),#kernel_initializer='random_normal',\n",
        "                      bias_initializer='random_normal',\n",
        "                      name=str(i)+str(j))\n",
        "        else:\n",
        "            nodes_red = m\n",
        "            layer_red = Dense(nodes_red, activation='linear', trainable=False,\n",
        "                          kernel_initializer=initializers.RandomNormal(0,0.1),#kernel_initializer='random_normal',\n",
        "                          bias_initializer='random_normal',\n",
        "                          name=str(i)+str(j))\n",
        "        layers_red = layers_red + [layer_red]"
      ],
      "execution_count": null,
      "outputs": []
    },
    {
      "cell_type": "code",
      "metadata": {
        "id": "gUhzjFIP59kU"
      },
      "source": [
        "#Implementing the loss function\n",
        "# Inputs is the training set below, containing the price S0, \n",
        "#the initial hedging being 0, and the increments of the log price process \n",
        "price_red = Input(shape=(m,))\n",
        "hedge_red = Input(shape=(m,))\n",
        "hedgeeval_red = Input(shape=(m,))\n",
        "premium_red = Input(shape=(m,))\n",
        "\n",
        "inputs_red = [price_red]+[hedge_red]+[hedgeeval_red]+[premium_red]\n",
        "outputhelper_red=[]\n",
        "\n",
        "premium_red = Dense(m, activation='linear', trainable=True,\n",
        "                kernel_initializer=initializers.RandomNormal(0,1),#kernel_initializer='random_normal',\n",
        "                bias_initializer=initializers.RandomNormal(0,1))(premium_red)\n",
        "\n",
        "for j in range(N):\n",
        "    strategy_red = price_red\n",
        "    strategyeval_red=hedgeeval_red\n",
        "    for k in range(d):\n",
        "        strategy_red= layers_red[k+(j)*d](strategy_red) # strategy at j is the hedging strategy at j , i.e. the neural network g_j\n",
        "        strategyeval_red=layers_red[k+(j)*d](strategyeval_red)\n",
        "    incr_red = Input(shape=(m,))\n",
        "    logprice_red= Lambda(lambda x : K.log(x))(price_red)\n",
        "    logprice_red = Add()([logprice_red, incr_red])\n",
        "    pricenew_red=Lambda(lambda x : K.exp(x))(logprice_red)# creating the price at time j+1\n",
        "    priceincr_red=Subtract()([pricenew_red, price_red])\n",
        "    hedgenew_red = Multiply()([strategy_red, priceincr_red])\n",
        "    #mult = Lambda(lambda x : K.sum(x,axis=1))(mult) # this is only used for m > 1\n",
        "    hedge_red = Add()([hedge_red,hedgenew_red]) # building up the discretized stochastic integral\n",
        "    inputs_red = inputs_red + [incr_red]\n",
        "    outputhelper_red = outputhelper_red + [strategyeval_red]\n",
        "    price_red=pricenew_red\n",
        "payoff_red= Lambda(lambda x : 0.5*(K.abs(x-strike)+x-strike))(price_red) \n",
        "outputs_red = Subtract()([payoff_red,hedge_red]) \n",
        "outputs_red = Subtract()([outputs_red,premium_red]) # payoff minus price minus hedge \n",
        "outputs_red= [outputs_red] + outputhelper_red +[premium_red]\n",
        "outputs_red = Concatenate()(outputs_red)\n",
        "\n",
        "model_hedge_strat_red = Model(inputs=inputs_red, outputs=outputs_red)"
      ],
      "execution_count": null,
      "outputs": []
    },
    {
      "cell_type": "code",
      "metadata": {
        "id": "XTEFOl4F59kV"
      },
      "source": [
        "gamma = 1.0\n",
        "grid = [(i/N)**gamma*T for i in range(N+1)]\n",
        "\n",
        "Ktrain = 10**5\n",
        "initialprice = S0\n",
        "\n",
        "# xtrain consists of the price S0, \n",
        "#the initial hedging being 0, and the increments of the log price process \n",
        "xtrain = ([initialprice*np.ones((Ktrain,m))] +\n",
        "          [np.zeros((Ktrain,m))]+\n",
        "          [np.ones((Ktrain,m))] +\n",
        "          [priceBS*np.ones((Ktrain,m))]+\n",
        "          [np.random.normal(-(sigma)**2/2*(grid[i+1]-grid[i]),sigma*np.sqrt(grid[i+1]-grid[i]),(Ktrain,m)) for i in range(N)])\n",
        "\n",
        "ytrain=np.zeros((Ktrain,1+N))"
      ],
      "execution_count": null,
      "outputs": []
    },
    {
      "cell_type": "code",
      "metadata": {
        "id": "N1id-kX959kV"
      },
      "source": [
        "N_red=1000\n",
        "xtrain_red=copy.deepcopy(xtrain)\n",
        "for i in range(R):\n",
        "    a = xtrain_red[4+i]\n",
        "    for k in range(int(Ktrain/N_red)):\n",
        "        for l in range(N_red):\n",
        "            a[k*N_red+l,:]=a[k*N_red,:]\n",
        "    xtrain_red[4+i]=a"
      ],
      "execution_count": null,
      "outputs": []
    },
    {
      "cell_type": "code",
      "metadata": {
        "id": "b7W-7isT59kV"
      },
      "source": [
        "#import keras\n",
        "from keras import losses\n",
        "def custom_loss(y_true,y_pred):\n",
        "    #return losses.mean_squared_error(y_true[0], y_pred[0])\n",
        "    z = y_pred[:,0]-y_true[:,0]\n",
        "    z=K.mean(K.square(z))\n",
        "    return z"
      ],
      "execution_count": null,
      "outputs": []
    },
    {
      "cell_type": "code",
      "metadata": {
        "id": "cnTJ7DX559kW"
      },
      "source": [
        "model_hedge_strat.compile(optimizer='adam',loss=custom_loss)\n",
        "model_hedge_strat_red.compile(optimizer='adam',loss=custom_loss)"
      ],
      "execution_count": null,
      "outputs": []
    },
    {
      "cell_type": "code",
      "metadata": {
        "colab": {
          "base_uri": "https://localhost:8080/"
        },
        "id": "8Qbx4kJk59kW",
        "outputId": "1376d192-1a31-49b5-a878-ec938441b903"
      },
      "source": [
        "import matplotlib.pyplot as plt\n",
        "\n",
        "for i in range(5):\n",
        "    model_hedge_strat.fit(x=xtrain,y=ytrain, epochs=1,verbose=True,batch_size=1000)\n",
        "weights = model_hedge_strat.get_weights()\n",
        "model_hedge_strat_red.set_weights(weights)\n",
        "#for i in range(5):\n",
        "#    model_hedge_strat_red.fit(x=xtrain_red,y=ytrain, epochs=1,verbose=True,batch_size=10000)\n",
        "#weights = model_hedge_strat_red.get_weights()\n",
        "#model_hedge_strat.set_weights(weights)"
      ],
      "execution_count": null,
      "outputs": [
        {
          "output_type": "stream",
          "name": "stdout",
          "text": [
            "WARNING:tensorflow:From /tensorflow-1.15.2/python3.7/keras/backend/tensorflow_backend.py:422: The name tf.global_variables is deprecated. Please use tf.compat.v1.global_variables instead.\n",
            "\n",
            "Epoch 1/1\n",
            "100000/100000 [==============================] - 44s 439us/step - loss: 0.2562\n",
            "Epoch 1/1\n",
            "100000/100000 [==============================] - 14s 136us/step - loss: 0.1628\n",
            "Epoch 1/1\n",
            "100000/100000 [==============================] - 14s 136us/step - loss: 0.1002\n",
            "Epoch 1/1\n",
            "100000/100000 [==============================] - 13s 135us/step - loss: 0.0586\n",
            "Epoch 1/1\n",
            "100000/100000 [==============================] - 14s 136us/step - loss: 0.0324\n"
          ]
        }
      ]
    },
    {
      "cell_type": "code",
      "metadata": {
        "colab": {
          "base_uri": "https://localhost:8080/",
          "height": 301
        },
        "id": "inPlO-7r59kW",
        "outputId": "3f25cc0b-45f4-4af2-ee84-eda104ac3004"
      },
      "source": [
        "a = model_hedge_strat.predict(xtrain)\n",
        "plt.hist(a[:,0])\n",
        "plt.show()\n",
        "print(np.std(a[:,0]))\n",
        "print(np.mean(a[:,N+1]))"
      ],
      "execution_count": null,
      "outputs": [
        {
          "output_type": "display_data",
          "data": {
            "image/png": "[encoded data removed]",
            "text/plain": [
              "<Figure size 432x288 with 1 Axes>"
            ]
          },
          "metadata": {
            "tags": [],
            "needs_background": "light"
          }
        },
        {
          "output_type": "stream",
          "text": [
            "0.007702712\n",
            "0.079874165\n"
          ],
          "name": "stdout"
        }
      ]
    },
    {
      "cell_type": "code",
      "metadata": {
        "colab": {
          "base_uri": "https://localhost:8080/"
        },
        "id": "JeeOPzE659kX",
        "outputId": "61d1b3dd-7c4b-498f-8de1-0635b2bdd178"
      },
      "source": [
        "Ktest=50\n",
        "xtest = ([initialprice*np.ones((Ktest,m))] +\n",
        "          [np.zeros((Ktest,m))]+\n",
        "          [np.linspace(0.5,1.5,Ktest)] +#change this if you go to higher dimensions\n",
        "          [priceBS*np.ones((Ktest,m))]+\n",
        "          [np.random.normal(-(sigma)**2/2*(grid[i+1]-grid[i]),sigma*np.sqrt(grid[i+1]-grid[i]),(Ktest,m)) for i in range(N)])\n",
        "\n",
        "y=model_hedge_strat.predict(xtest)[:,10]\n",
        "print(y)"
      ],
      "execution_count": null,
      "outputs": [
        {
          "output_type": "stream",
          "text": [
            "[-0.16714251 -0.15423496 -0.14062174 -0.12622328 -0.11095566 -0.09472555\n",
            " -0.07742643 -0.05893625 -0.03911939 -0.017828    0.00509234  0.02979381\n",
            "  0.05641866  0.08508693  0.11588547  0.14885415  0.18397696  0.2211714\n",
            "  0.2602836   0.30108535  0.3432809   0.3865143   0.4303831   0.47445685\n",
            "  0.518298    0.5614804   0.6036097   0.6443361   0.6833674   0.7204746\n",
            "  0.7554921   0.7883165   0.8189004   0.8472456   0.8733936   0.89741796\n",
            "  0.9194149   0.93949723  0.9577871   0.97441113  0.9894967   1.0031679\n",
            "  1.0155448   1.0267402   1.0368608   1.0460047   1.0542625   1.0617176\n",
            "  1.0684453   1.0745147 ]\n"
          ],
          "name": "stdout"
        }
      ]
    },
    {
      "cell_type": "code",
      "metadata": {
        "colab": {
          "base_uri": "https://localhost:8080/",
          "height": 300
        },
        "id": "lwbk07zw59kY",
        "outputId": "d6aec260-6a66-484e-cbbf-f06d1213fe88"
      },
      "source": [
        "logincrements = xtrain[4:4+N]\n",
        "hedge = np.zeros(Ktrain)\n",
        "price = S0*np.ones((Ktrain,N))\n",
        "for k in range(N-1):\n",
        "    helper = logincrements[k][:,]\n",
        "    helper = helper.transpose()\n",
        "    price[:,k+1] = price[:,k]*np.exp(helper[:])\n",
        "    hedge[:] = hedge[:] + scipy.norm.cdf((np.log(price[:,k]/strike)+0.5*(T-grid[k+1])*sigma**2)/(np.sqrt(T-grid[k+1])*sigma))*(price[:,k+1]-price[:,k])\n",
        "hedge[:]= hedge[:]-0.5*(np.abs(price[:,N-1]-strike)+(price[:,N-1]-strike))+priceBS\n",
        "plt.hist(hedge)\n",
        "plt.show()\n",
        "print(np.std(hedge))\n",
        "print(np.mean(hedge))"
      ],
      "execution_count": null,
      "outputs": [
        {
          "output_type": "display_data",
          "data": {
            "image/png": "[encoded data removed]",
            "text/plain": [
              "<Figure size 432x288 with 1 Axes>"
            ]
          },
          "metadata": {
            "tags": [],
            "needs_background": "light"
          }
        },
        {
          "output_type": "stream",
          "text": [
            "0.00692145130563395\n",
            "0.00043582025986339763\n"
          ],
          "name": "stdout"
        }
      ]
    },
    {
      "cell_type": "code",
      "metadata": {
        "id": "X15OQqi559kY",
        "colab": {
          "base_uri": "https://localhost:8080/",
          "height": 265
        },
        "outputId": "610eaf3c-5893-45c4-8d5b-747b7c588a42"
      },
      "source": [
        "l =20\n",
        "s=np.linspace(0.5,1.5,Ktest)\n",
        "z=scipy.norm.cdf((np.log(s/strike)+0.5*(T-grid[l])*sigma**2)/(np.sqrt(T-grid[l])*sigma))\n",
        "#plt.plot(s,z)\n",
        "#plt.plot(s,y)\n",
        "y=model_hedge_strat.predict(xtest)[:,l]\n",
        "plt.plot(s,y,s,z)\n",
        "plt.show()"
      ],
      "execution_count": null,
      "outputs": [
        {
          "output_type": "display_data",
          "data": {
            "image/png": "[encoded data removed]",
            "text/plain": [
              "<Figure size 432x288 with 1 Axes>"
            ]
          },
          "metadata": {
            "tags": [],
            "needs_background": "light"
          }
        }
      ]
    },
    {
      "cell_type": "markdown",
      "metadata": {
        "id": "mAUTrDD259kY"
      },
      "source": [
        "If we want to calculate indifference prices, we can use the second code (showing us also very explicitly the hedging strategies), but for an untrainable premium network: we shall just fix the premium network to be the identity and map different values (around reasonable prices) to the hedging portfolio. We also take as an input of the hedging strategy the initial capital, in order to parametrize the dependence on the initial capital.\n",
        "\n",
        "Additionally we have to change the loss function from mean square to an everywhere defined utility function $ u $, i.e. a concave, increasing function with argument space the whole real line. Think for instance of $ x \\mapsto 1 - \\exp(-x) $.\n",
        "\n",
        "Let $p_s$ denote the indifference price (of the seller) of the option (given no additional investment into a portfolio). Then the goal is solve the following optimization problem \n",
        "$$\n",
        "u(0) = \\sup_{H \\text{ predictable }}\\mathbb{E}\\big[ u(- f(S_T) + p_s + (H\\bullet S)_T) \\big],\n",
        "$$\n",
        "where $(H_t)$ ranges over all predictable process and $(H \\bullet S)_T= \\int_0^T H_t dS_t$ denotes the stochastic Ito integral, i.e.~the seller wants to receive a premimum $p_s$ for having the liability in its books and hedging it by self-financing portfolio (given by $H$). The indifference price $p_b$ of the buyer satisfies in contrast\n",
        "$$\n",
        "u(0) = \\sup_{H \\text{ predictable }}\\mathbb{E}\\big[ u(f(S_T) - p_b - (H\\bullet S)_T) \\big],\n",
        "$$\n",
        "where the buyer is willing to pay $p_b$ to obtain the asset $f(S_T)$ instead of mimicking it by a portfolio on her own. The price of the seller will be higher than previously calculated price with the $L^2$ criterion, whereas the price of the buyer will be smaller."
      ]
    },
    {
      "cell_type": "code",
      "metadata": {
        "id": "x72GmnI259kY"
      },
      "source": [
        "#Definition of neural networks for heding strategies\n",
        "\n",
        "m = 1 # dimension of price\n",
        "d = 3 # number of layers in strategy\n",
        "n = 8  # nodes in the first but last layers\n",
        "\n",
        "# architecture is the same for all networks\n",
        "layers = []\n",
        "for j in range(N):\n",
        "    for i in range(d):\n",
        "        if i < d-1:\n",
        "            nodes = n\n",
        "            layer = Dense(nodes, activation='tanh',trainable=True,\n",
        "                      kernel_initializer=initializers.RandomNormal(0,1),#kernel_initializer='random_normal',\n",
        "                      bias_initializer='random_normal',\n",
        "                      name=str(i)+str(j))\n",
        "        else:\n",
        "            nodes = m\n",
        "            layer = Dense(nodes, activation='linear', trainable=True,\n",
        "                          kernel_initializer=initializers.RandomNormal(0,0.1),#kernel_initializer='random_normal',\n",
        "                          bias_initializer='random_normal',\n",
        "                          name=str(i)+str(j))\n",
        "        layers = layers + [layer]"
      ],
      "execution_count": null,
      "outputs": []
    },
    {
      "cell_type": "code",
      "metadata": {
        "id": "Pa4iZAba59kY"
      },
      "source": [
        "#Implementing the loss function\n",
        "# Inputs is the training set below, containing the price S0, \n",
        "#the initial hedging being 0, and the increments of the log price process \n",
        "price = Input(shape=(m,))\n",
        "hedge = Input(shape=(m,))\n",
        "hedgeeval = Input(shape=(m,))\n",
        "premium = Input(shape=(m,))\n",
        "\n",
        "inputs = [price]+[hedge]+[hedgeeval]+[premium]\n",
        "outputhelper=[]\n",
        "\n",
        "premium = Dense(m, activation='linear', trainable=False,\n",
        "                kernel_initializer=initializers.RandomNormal(1.0,0.0),#kernel_initializer='random_normal',\n",
        "                bias_initializer=initializers.RandomNormal(0.0,0.0))(premium)\n",
        "\n",
        "for j in range(N):\n",
        "    strategy = Concatenate()([price,premium])\n",
        "    strategyeval=Concatenate()([hedgeeval,premium])\n",
        "    for k in range(d):\n",
        "        strategy= layers[k+(j)*d](strategy) # strategy at j is the hedging strategy at j , i.e. the neural network g_j\n",
        "        strategyeval=layers[k+(j)*d](strategyeval)\n",
        "    incr = Input(shape=(m,))\n",
        "    logprice= Lambda(lambda x : K.log(x))(price)\n",
        "    logprice = Add()([logprice, incr])\n",
        "    pricenew=Lambda(lambda x : K.exp(x))(logprice)# creating the price at time j+1\n",
        "    priceincr=Subtract()([pricenew, price])\n",
        "    hedgenew = Multiply()([strategy, priceincr])\n",
        "    #mult = Lambda(lambda x : K.sum(x,axis=1))(mult) # this is only used for m > 1\n",
        "    hedge = Add()([hedge,hedgenew]) # building up the discretized stochastic integral\n",
        "    inputs = inputs + [incr]\n",
        "    outputhelper = outputhelper + [strategyeval]\n",
        "    price=pricenew\n",
        "payoff= Lambda(lambda x : 0.5*(K.abs(x-strike)+x-strike))(price) \n",
        "outputs = Subtract()([payoff,hedge]) \n",
        "outputs = Subtract()([outputs,premium]) # payoff minus price minus hedge \n",
        "outputs= [outputs] + outputhelper +[premium]\n",
        "outputs = Concatenate()(outputs)\n",
        "\n",
        "model_hedge_strat = Model(inputs=inputs, outputs=outputs)"
      ],
      "execution_count": null,
      "outputs": []
    },
    {
      "cell_type": "code",
      "metadata": {
        "id": "_ftJRHvz59kZ"
      },
      "source": [
        "Ktrain = 10**5\n",
        "initialprice = S0\n",
        "\n",
        "# xtrain consists of the price S0, \n",
        "#the initial hedging being 0, and the increments of the log price process \n",
        "xtrain = ([initialprice*np.ones((Ktrain,m))] +\n",
        "          [np.zeros((Ktrain,m))]+\n",
        "          [np.ones((Ktrain,m))] +\n",
        "          [priceBS*np.linspace(0.5,1.5,Ktrain)]+\n",
        "          [np.random.normal(-(sigma)**2*T/(2*N),sigma*np.sqrt(T)/np.sqrt(N),(Ktrain,m)) for i in range(N)])\n",
        "\n",
        "ytrain=np.zeros((Ktrain,1+N))"
      ],
      "execution_count": null,
      "outputs": []
    },
    {
      "cell_type": "code",
      "metadata": {
        "id": "q5eqKY-A59kZ"
      },
      "source": [
        "#import keras\n",
        "from keras import losses\n",
        "def custom_loss(y_true,y_pred):\n",
        "    #return losses.mean_squared_error(y_true[0], y_pred[0])\n",
        "    z = y_pred[:,0]-y_true[:,0]\n",
        "    z=K.mean(K.exp(-z))\n",
        "    return z"
      ],
      "execution_count": null,
      "outputs": []
    },
    {
      "cell_type": "code",
      "metadata": {
        "id": "8XsQmDai59ka"
      },
      "source": [
        "model_hedge_strat.compile(optimizer='adam',loss=custom_loss)"
      ],
      "execution_count": null,
      "outputs": []
    },
    {
      "cell_type": "code",
      "metadata": {
        "id": "EjNSlJty59ka",
        "colab": {
          "base_uri": "https://localhost:8080/",
          "height": 473
        },
        "outputId": "b5f24567-6f9a-4f60-b1ff-0beea364edae"
      },
      "source": [
        "import matplotlib.pyplot as plt\n",
        "\n",
        "for i in range(5):\n",
        "    model_hedge_strat.fit(x=xtrain,y=ytrain, epochs=1,verbose=True)\n",
        "plt.hist(model_hedge_strat.predict(xtrain)[:,0])\n",
        "plt.show()\n",
        "print(np.std(model_hedge_strat.predict(xtrain)[:,0]))\n",
        "print(np.mean(model_hedge_strat.predict(xtrain)[:,N+1]))"
      ],
      "execution_count": null,
      "outputs": [
        {
          "output_type": "stream",
          "text": [
            "Epoch 1/1\n",
            "100000/100000 [==============================] - 296s 3ms/step - loss: 1.0041\n",
            "Epoch 1/1\n",
            "100000/100000 [==============================] - 246s 2ms/step - loss: 1.0024\n",
            "Epoch 1/1\n",
            "100000/100000 [==============================] - 245s 2ms/step - loss: 1.0023\n",
            "Epoch 1/1\n",
            "100000/100000 [==============================] - 246s 2ms/step - loss: 1.0021\n",
            "Epoch 1/1\n",
            "100000/100000 [==============================] - 246s 2ms/step - loss: 1.0020\n"
          ],
          "name": "stdout"
        },
        {
          "output_type": "display_data",
          "data": {
            "image/png": "[encoded data removed]",
            "text/plain": [
              "<Figure size 432x288 with 1 Axes>"
            ]
          },
          "metadata": {
            "tags": [],
            "needs_background": "light"
          }
        },
        {
          "output_type": "stream",
          "text": [
            "0.07148296\n",
            "0.07965567\n"
          ],
          "name": "stdout"
        }
      ]
    },
    {
      "cell_type": "code",
      "metadata": {
        "id": "ZzehAbqf59ka",
        "colab": {
          "base_uri": "https://localhost:8080/"
        },
        "outputId": "d5b15134-0580-41f9-fa05-ff5181b628d3"
      },
      "source": [
        "Ktest = 10**5\n",
        "for x in np.linspace(0.96,1.0,10):\n",
        "    xtest = ([initialprice*np.ones((Ktest,m))] +\n",
        "              [np.zeros((Ktest,m))]+\n",
        "              [np.linspace(0.5,1.5,Ktest)] +#change this if you go to higher dimensions\n",
        "              [priceBS*x*np.ones((Ktest,m))]+\n",
        "              [np.random.normal(-(sigma)**2*T/(2*N),sigma*np.sqrt(T)/np.sqrt(N),(Ktest,m)) for i in range(N)])\n",
        "    y=np.mean(np.exp(-model_hedge_strat.predict(xtest)[:,0]))\n",
        "    print(y)"
      ],
      "execution_count": null,
      "outputs": [
        {
          "output_type": "stream",
          "text": [
            "0.9995627\n",
            "0.9993324\n",
            "0.99969375\n",
            "0.99989593\n",
            "1.0009139\n",
            "1.0008274\n",
            "1.0014551\n",
            "1.0020412\n",
            "1.0022228\n",
            "1.0022191\n"
          ],
          "name": "stdout"
        }
      ]
    },
    {
      "cell_type": "code",
      "metadata": {
        "id": "e-5S9KUL59ka"
      },
      "source": [
        ""
      ],
      "execution_count": null,
      "outputs": []
    }
  ]
}